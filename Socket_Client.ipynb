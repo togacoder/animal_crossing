{
 "cells": [
  {
   "cell_type": "code",
   "execution_count": null,
   "metadata": {},
   "outputs": [],
   "source": [
    "# -*- coding: utf-8 -*-\n",
    "\n",
    "# ソケット通信クライアント\n",
    "# IPythonNotebook用\n",
    "\n",
    "import socket\n",
    "import re\n",
    "import time\n",
    "\n",
    "BUFSIZE = 1024\n",
    "\n",
    "serverName = \"10.128.3.109\"\n",
    "serverPort = 4444\n",
    "\n",
    "s = socket.socket(socket.AF_INET, socket.SOCK_STREAM)\n",
    "s.connect((serverName, serverPort))\n",
    "print(s.recv(BUFSIZE).rstrip().decode())\n",
    "\n",
    "while True:\n",
    "    line = input(\"\")\n",
    "\n",
    "    if re.match(r\"^q\\s*$\", line):\n",
    "        break\n",
    "\n",
    "    s.send((line + \"\\n\").encode())\n",
    "    time.sleep(1)\n",
    "\n",
    "    print(s.recv(BUFSIZE).rstrip().decode())\n",
    "\n",
    "print(\"bye\")\n",
    "s.close()\n"
   ]
  }
 ],
 "metadata": {
  "kernelspec": {
   "display_name": "Python 3",
   "language": "python",
   "name": "python3"
  },
  "language_info": {
   "codemirror_mode": {
    "name": "ipython",
    "version": 3
   },
   "file_extension": ".py",
   "mimetype": "text/x-python",
   "name": "python",
   "nbconvert_exporter": "python",
   "pygments_lexer": "ipython3",
   "version": "3.7.0"
  }
 },
 "nbformat": 4,
 "nbformat_minor": 2
}
